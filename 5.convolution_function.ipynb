{
 "cells": [
  {
   "cell_type": "code",
   "execution_count": 12,
   "metadata": {},
   "outputs": [],
   "source": [
    "import cv2\n",
    "import numpy as np\n",
    "from skimage.exposure import rescale_intensity\n",
    "\n",
    "def convolve(image, kernel, pad, stride):\n",
    "    (iH, iW, ch) = image.shape\n",
    "    (kH, kW) = kernel.shape[:2]\n",
    "    (fH, fW) = (int((iH+2*pad-kH)/stride+1),int((iW+2*pad-kW)/stride+1))\n",
    "    \n",
    "    image = cv2.copyMakeBorder(image, pad, pad, pad, pad, cv2.BORDER_REPLICATE)\n",
    "    output = np.zeros((fH,fW,ch), dtype=\"float32\")\n",
    "    \n",
    "    for y in np.arange(0, fH):\n",
    "        for x in np.arange(0, fW):\n",
    "            for z in np.arange(0, ch):\n",
    "                result = float(0)\n",
    "                for i in np.arange(0, kH):\n",
    "                    for j in np.arange(0, kW):\n",
    "                        h = y*stride+i\n",
    "                        w = x*stride+j\n",
    "                        image_val = image[h, w, z]\n",
    "                        kernel_val = kernel[i, j]\n",
    "                        result += image_val*kernel_val\n",
    "                output[y, x, z] = result\n",
    "    output = rescale_intensity(output, in_range=(0, 255))\n",
    "    output = (output * 255).astype(\"uint8\")\n",
    "    \n",
    "    return output\n",
    "\n",
    "def run():\n",
    "    img = cv2.imread('suji.jpg')\n",
    "    kernel = np.array([[-1,-1,-1],\n",
    "                      [-1,8,-1],\n",
    "                      [-1,-1,-1]])\n",
    "    dst = convolve(img, kernel, 1, 1)\n",
    "\n",
    "    cv2.imshow('dst', dst)\n",
    "    cv2.waitKey(0)\n",
    "    cv2.destroyAllWindows()\n",
    "    \n",
    "if __name__ == '__main__':\n",
    "    run()"
   ]
  },
  {
   "cell_type": "code",
   "execution_count": null,
   "metadata": {},
   "outputs": [],
   "source": []
  }
 ],
 "metadata": {
  "kernelspec": {
   "display_name": "Python 3",
   "language": "python",
   "name": "python3"
  },
  "language_info": {
   "codemirror_mode": {
    "name": "ipython",
    "version": 3
   },
   "file_extension": ".py",
   "mimetype": "text/x-python",
   "name": "python",
   "nbconvert_exporter": "python",
   "pygments_lexer": "ipython3",
   "version": "3.5.2"
  }
 },
 "nbformat": 4,
 "nbformat_minor": 2
}
