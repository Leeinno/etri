{
 "cells": [
  {
   "cell_type": "code",
   "execution_count": 15,
   "metadata": {},
   "outputs": [],
   "source": [
    "import cv2\n",
    "import numpy as np\n",
    "from matplotlib import pyplot as plt\n",
    "\n",
    "img = cv2.imread('suji.jpg')\n",
    "\n",
    "#kernel = np.ones((3,3),np.float32)/9\n",
    "kernel = np.array([[-1,-1,-1],[-1,8,-1],[-1,-1,-1]])\n",
    "dst = cv2.filter2D(img,-1,kernel)\n",
    "gray = cv2.cvtColor(dst, cv2.COLOR_BGR2GRAY)\n",
    "\n",
    "cv2.imshow('dst',gray)\n",
    "cv2.waitKey(0)\n",
    "cv2.destroyAllWindows()\n",
    "\n",
    "#BGR->RGB Function\n",
    "#plt.imshow(cv2.cvtColor(img, cv.COLOR_BGR2RGB))\n",
    "#plt.subplot(121),plt.imshow(cv2.cvtColor(img, cv2.COLOR_BGR2RGB)),plt.title('Original')\n",
    "#plt.xticks([]), plt.yticks([])\n",
    "#plt.subplot(122),plt.imshow(cv2.cvtColor(dst, cv2.COLOR_BGR2RGB)),plt.title('Averaging')\n",
    "#plt.xticks([]), plt.yticks([])\n",
    "#plt.show()\n",
    "\n",
    "#plt.subplot(121),plt.imshow(img),plt.title('Original')\n",
    "#plt.xticks([]), plt.yticks([])\n",
    "#plt.subplot(122),plt.imshow(dst),plt.title('Averaging')\n",
    "#plt.xticks([]), plt.yticks([])\n",
    "#plt.show()"
   ]
  },
  {
   "cell_type": "code",
   "execution_count": null,
   "metadata": {},
   "outputs": [],
   "source": []
  }
 ],
 "metadata": {
  "kernelspec": {
   "display_name": "Python 3",
   "language": "python",
   "name": "python3"
  },
  "language_info": {
   "codemirror_mode": {
    "name": "ipython",
    "version": 3
   },
   "file_extension": ".py",
   "mimetype": "text/x-python",
   "name": "python",
   "nbconvert_exporter": "python",
   "pygments_lexer": "ipython3",
   "version": "3.5.2"
  }
 },
 "nbformat": 4,
 "nbformat_minor": 2
}
